{
 "cells": [
  {
   "cell_type": "code",
   "execution_count": 1,
   "id": "e00ef018-c9ed-4ae3-9008-e2d2e959ee2e",
   "metadata": {},
   "outputs": [],
   "source": [
    "import pandas as pd"
   ]
  },
  {
   "cell_type": "code",
   "execution_count": 2,
   "id": "9726deef-7c16-4131-b85e-7f7087fe371e",
   "metadata": {},
   "outputs": [],
   "source": [
    "pc_cluster = pd.read_csv(\"postalcode_cluster_mapping_CA.csv\")"
   ]
  },
  {
   "cell_type": "code",
   "execution_count": 5,
   "id": "16d4daa7-98c2-4d9f-a87d-e2daf0c5f8c0",
   "metadata": {},
   "outputs": [
    {
     "data": {
      "text/html": [
       "<div>\n",
       "<style scoped>\n",
       "    .dataframe tbody tr th:only-of-type {\n",
       "        vertical-align: middle;\n",
       "    }\n",
       "\n",
       "    .dataframe tbody tr th {\n",
       "        vertical-align: top;\n",
       "    }\n",
       "\n",
       "    .dataframe thead th {\n",
       "        text-align: right;\n",
       "    }\n",
       "</style>\n",
       "<table border=\"1\" class=\"dataframe\">\n",
       "  <thead>\n",
       "    <tr style=\"text-align: right;\">\n",
       "      <th></th>\n",
       "      <th>PCODE</th>\n",
       "      <th>cluster</th>\n",
       "      <th>LAT</th>\n",
       "      <th>LONG</th>\n",
       "      <th>Type</th>\n",
       "    </tr>\n",
       "  </thead>\n",
       "  <tbody>\n",
       "    <tr>\n",
       "      <th>0</th>\n",
       "      <td>A0A0A0</td>\n",
       "      <td>27</td>\n",
       "      <td>47.571766</td>\n",
       "      <td>-53.292611</td>\n",
       "      <td>other</td>\n",
       "    </tr>\n",
       "    <tr>\n",
       "      <th>1</th>\n",
       "      <td>A0A0A1</td>\n",
       "      <td>50</td>\n",
       "      <td>47.396746</td>\n",
       "      <td>-53.222585</td>\n",
       "      <td>other</td>\n",
       "    </tr>\n",
       "    <tr>\n",
       "      <th>2</th>\n",
       "      <td>A0A0A4</td>\n",
       "      <td>22</td>\n",
       "      <td>47.529076</td>\n",
       "      <td>-53.272645</td>\n",
       "      <td>other</td>\n",
       "    </tr>\n",
       "    <tr>\n",
       "      <th>3</th>\n",
       "      <td>A0A0B1</td>\n",
       "      <td>50</td>\n",
       "      <td>46.633242</td>\n",
       "      <td>-53.583219</td>\n",
       "      <td>other</td>\n",
       "    </tr>\n",
       "    <tr>\n",
       "      <th>4</th>\n",
       "      <td>A0A0B2</td>\n",
       "      <td>18</td>\n",
       "      <td>47.096349</td>\n",
       "      <td>-52.943308</td>\n",
       "      <td>other</td>\n",
       "    </tr>\n",
       "    <tr>\n",
       "      <th>...</th>\n",
       "      <td>...</td>\n",
       "      <td>...</td>\n",
       "      <td>...</td>\n",
       "      <td>...</td>\n",
       "      <td>...</td>\n",
       "    </tr>\n",
       "    <tr>\n",
       "      <th>907799</th>\n",
       "      <td>Y1A6K3</td>\n",
       "      <td>74</td>\n",
       "      <td>60.703384</td>\n",
       "      <td>-135.111656</td>\n",
       "      <td>other</td>\n",
       "    </tr>\n",
       "    <tr>\n",
       "      <th>907800</th>\n",
       "      <td>Y1A6K6</td>\n",
       "      <td>74</td>\n",
       "      <td>60.719651</td>\n",
       "      <td>-135.050194</td>\n",
       "      <td>other</td>\n",
       "    </tr>\n",
       "    <tr>\n",
       "      <th>907801</th>\n",
       "      <td>Y1A6L4</td>\n",
       "      <td>74</td>\n",
       "      <td>60.691511</td>\n",
       "      <td>-135.041061</td>\n",
       "      <td>residential</td>\n",
       "    </tr>\n",
       "    <tr>\n",
       "      <th>907802</th>\n",
       "      <td>Y1A6T3</td>\n",
       "      <td>74</td>\n",
       "      <td>60.695823</td>\n",
       "      <td>-135.111005</td>\n",
       "      <td>other</td>\n",
       "    </tr>\n",
       "    <tr>\n",
       "      <th>907803</th>\n",
       "      <td>Y1A6V2</td>\n",
       "      <td>74</td>\n",
       "      <td>60.695476</td>\n",
       "      <td>-135.109359</td>\n",
       "      <td>other</td>\n",
       "    </tr>\n",
       "  </tbody>\n",
       "</table>\n",
       "<p>907804 rows × 5 columns</p>\n",
       "</div>"
      ],
      "text/plain": [
       "         PCODE  cluster        LAT        LONG         Type\n",
       "0       A0A0A0       27  47.571766  -53.292611        other\n",
       "1       A0A0A1       50  47.396746  -53.222585        other\n",
       "2       A0A0A4       22  47.529076  -53.272645        other\n",
       "3       A0A0B1       50  46.633242  -53.583219        other\n",
       "4       A0A0B2       18  47.096349  -52.943308        other\n",
       "...        ...      ...        ...         ...          ...\n",
       "907799  Y1A6K3       74  60.703384 -135.111656        other\n",
       "907800  Y1A6K6       74  60.719651 -135.050194        other\n",
       "907801  Y1A6L4       74  60.691511 -135.041061  residential\n",
       "907802  Y1A6T3       74  60.695823 -135.111005        other\n",
       "907803  Y1A6V2       74  60.695476 -135.109359        other\n",
       "\n",
       "[907804 rows x 5 columns]"
      ]
     },
     "execution_count": 5,
     "metadata": {},
     "output_type": "execute_result"
    }
   ],
   "source": [
    "pc_cluster"
   ]
  },
  {
   "cell_type": "code",
   "execution_count": null,
   "id": "5af5fc0e-c3b5-4733-9f51-eff53df406ca",
   "metadata": {},
   "outputs": [],
   "source": []
  },
  {
   "cell_type": "code",
   "execution_count": 8,
   "id": "d0fcca05-45ac-438e-92c3-6c1ad55b2527",
   "metadata": {},
   "outputs": [
    {
     "data": {
      "text/html": [
       "<div>\n",
       "<style scoped>\n",
       "    .dataframe tbody tr th:only-of-type {\n",
       "        vertical-align: middle;\n",
       "    }\n",
       "\n",
       "    .dataframe tbody tr th {\n",
       "        vertical-align: top;\n",
       "    }\n",
       "\n",
       "    .dataframe thead th {\n",
       "        text-align: right;\n",
       "    }\n",
       "</style>\n",
       "<table border=\"1\" class=\"dataframe\">\n",
       "  <thead>\n",
       "    <tr style=\"text-align: right;\">\n",
       "      <th></th>\n",
       "      <th>cluster</th>\n",
       "      <th>count</th>\n",
       "    </tr>\n",
       "  </thead>\n",
       "  <tbody>\n",
       "    <tr>\n",
       "      <th>0</th>\n",
       "      <td>74</td>\n",
       "      <td>37212</td>\n",
       "    </tr>\n",
       "    <tr>\n",
       "      <th>1</th>\n",
       "      <td>32</td>\n",
       "      <td>31385</td>\n",
       "    </tr>\n",
       "    <tr>\n",
       "      <th>2</th>\n",
       "      <td>9</td>\n",
       "      <td>30720</td>\n",
       "    </tr>\n",
       "    <tr>\n",
       "      <th>3</th>\n",
       "      <td>67</td>\n",
       "      <td>28202</td>\n",
       "    </tr>\n",
       "    <tr>\n",
       "      <th>4</th>\n",
       "      <td>39</td>\n",
       "      <td>28004</td>\n",
       "    </tr>\n",
       "    <tr>\n",
       "      <th>...</th>\n",
       "      <td>...</td>\n",
       "      <td>...</td>\n",
       "    </tr>\n",
       "    <tr>\n",
       "      <th>70</th>\n",
       "      <td>21</td>\n",
       "      <td>3262</td>\n",
       "    </tr>\n",
       "    <tr>\n",
       "      <th>71</th>\n",
       "      <td>59</td>\n",
       "      <td>3152</td>\n",
       "    </tr>\n",
       "    <tr>\n",
       "      <th>72</th>\n",
       "      <td>12</td>\n",
       "      <td>2167</td>\n",
       "    </tr>\n",
       "    <tr>\n",
       "      <th>73</th>\n",
       "      <td>6</td>\n",
       "      <td>1477</td>\n",
       "    </tr>\n",
       "    <tr>\n",
       "      <th>74</th>\n",
       "      <td>64</td>\n",
       "      <td>1392</td>\n",
       "    </tr>\n",
       "  </tbody>\n",
       "</table>\n",
       "<p>75 rows × 2 columns</p>\n",
       "</div>"
      ],
      "text/plain": [
       "    cluster  count\n",
       "0        74  37212\n",
       "1        32  31385\n",
       "2         9  30720\n",
       "3        67  28202\n",
       "4        39  28004\n",
       "..      ...    ...\n",
       "70       21   3262\n",
       "71       59   3152\n",
       "72       12   2167\n",
       "73        6   1477\n",
       "74       64   1392\n",
       "\n",
       "[75 rows x 2 columns]"
      ]
     },
     "execution_count": 8,
     "metadata": {},
     "output_type": "execute_result"
    }
   ],
   "source": [
    "value_counts = pc_cluster['cluster'].value_counts().reset_index()\n",
    "\n",
    "# Rename columns for clarity\n",
    "value_counts.columns = ['cluster', 'count']\n",
    "value_counts"
   ]
  },
  {
   "cell_type": "code",
   "execution_count": 15,
   "id": "43032604-4b43-4703-b39e-bf93aab8942c",
   "metadata": {},
   "outputs": [
    {
     "data": {
      "text/plain": [
       "907804"
      ]
     },
     "execution_count": 15,
     "metadata": {},
     "output_type": "execute_result"
    }
   ],
   "source": [
    "value_counts['count'].sum()"
   ]
  },
  {
   "cell_type": "code",
   "execution_count": 14,
   "id": "7f3cb9bc-0d6e-4fce-8214-112c403c5ec5",
   "metadata": {},
   "outputs": [
    {
     "data": {
      "text/plain": [
       "37212"
      ]
     },
     "execution_count": 14,
     "metadata": {},
     "output_type": "execute_result"
    }
   ],
   "source": [
    "value_counts[value_counts['cluster'] == 74][\"count\"].sum()"
   ]
  },
  {
   "cell_type": "code",
   "execution_count": 12,
   "id": "c9e90664-98ef-4e5f-9912-39661db83036",
   "metadata": {},
   "outputs": [
    {
     "data": {
      "text/plain": [
       "0.0409912271811977"
      ]
     },
     "execution_count": 12,
     "metadata": {},
     "output_type": "execute_result"
    }
   ],
   "source": [
    "37212 / 907804"
   ]
  }
 ],
 "metadata": {
  "kernelspec": {
   "display_name": "Python 3 (ipykernel)",
   "language": "python",
   "name": "python3"
  },
  "language_info": {
   "codemirror_mode": {
    "name": "ipython",
    "version": 3
   },
   "file_extension": ".py",
   "mimetype": "text/x-python",
   "name": "python",
   "nbconvert_exporter": "python",
   "pygments_lexer": "ipython3",
   "version": "3.8.13"
  }
 },
 "nbformat": 4,
 "nbformat_minor": 5
}
