{
 "cells": [
  {
   "cell_type": "markdown",
   "id": "1e9ea54c-06ee-486b-9d3b-ebb70ae51632",
   "metadata": {},
   "source": [
    "# ZEVA Data Storytelling Project – Q3 2025  \n",
    "\n",
    "**Data Source:**  \n",
    "All data was collected from the ZEVA backend for **Q3 2025 (July, August, September)**.  \n",
    "\n",
    "---\n",
    "\n",
    "## Objective  \n",
    "The primary objective of this project is to deliver **Phase 1: Driving-Related Performance Insights**. This phase focuses on:  \n",
    "\n",
    "- **Daily Total Mileage per Vehicle**  \n",
    "  Measuring how far each vehicle travels on a daily basis.  \n",
    "\n",
    "- **Travel Patterns per User**  \n",
    "  Analyzing trip lengths, travel times, and trip frequency for each user.  \n",
    "\n",
    "These insights will support **internal decision-making** and can also be leveraged for **external communication and marketing initiatives**.  \n",
    "\n",
    "---\n",
    "\n",
    "## Phase 1 – Methodology  \n",
    "\n",
    "### 1. Data Fetching  \n",
    "- Conducted using the script `pull_vehicle_data.py`.  \n",
    "- Extracted raw trip and vehicle telemetry data for the Q3 period.  \n",
    "\n",
    "### 2. Data Cleaning  \n",
    "- Established relationships between the **auth** tables and corresponding **client** tables.  \n",
    "- Correctly mapped vehicles to clients to ensure accuracy.  \n",
    "- Standardized timestamps, vehicle IDs, and user mappings for consistency across datasets.  \n",
    "\n",
    "### 3. Data Structuring  \n",
    "- Built curated datasets for analysis, including:  \n",
    "  - **Vehicle Distribution:** Distribution of vehicle models on the platform, used for assessing data quality.  \n",
    "  - **Mileage Dataset:** Daily aggregated mileage per vehicle.  \n",
    "  - **User Travel Dataset:** Trip patterns per user, including distribution of trip lengths and start/end times.  \n",
    "  - **Driving Behavior Dataset:** Derived metrics capturing driving styles, such as early-morning vs. late-night driving tendencies.  \n",
    "\n",
    "These datasets form the foundation for visualization, storytelling, and newsletter-ready insights.  \n"
   ]
  },
  {
   "cell_type": "code",
   "execution_count": null,
   "id": "f37539bc-74d9-40b1-9f88-488c871202ae",
   "metadata": {},
   "outputs": [],
   "source": []
  }
 ],
 "metadata": {
  "kernelspec": {
   "display_name": "Python 3 (ipykernel)",
   "language": "python",
   "name": "python3"
  },
  "language_info": {
   "codemirror_mode": {
    "name": "ipython",
    "version": 3
   },
   "file_extension": ".py",
   "mimetype": "text/x-python",
   "name": "python",
   "nbconvert_exporter": "python",
   "pygments_lexer": "ipython3",
   "version": "3.8.13"
  }
 },
 "nbformat": 4,
 "nbformat_minor": 5
}
